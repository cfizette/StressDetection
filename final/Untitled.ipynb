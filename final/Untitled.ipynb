{
 "cells": [
  {
   "cell_type": "code",
   "execution_count": 41,
   "metadata": {
    "collapsed": true
   },
   "outputs": [],
   "source": [
    "from openpyxl import Workbook, load_workbook\n",
    "from openpyxl.utils import get_column_letter\n",
    "import pandas as pd"
   ]
  },
  {
   "cell_type": "code",
   "execution_count": 42,
   "metadata": {
    "collapsed": false
   },
   "outputs": [],
   "source": [
    "wb = load_workbook('excel_test.xlsx', data_only=True)"
   ]
  },
  {
   "cell_type": "raw",
   "metadata": {},
   "source": []
  },
  {
   "cell_type": "code",
   "execution_count": 43,
   "metadata": {
    "collapsed": false
   },
   "outputs": [],
   "source": [
    "ws = wb.get_sheet_by_name('Data')"
   ]
  },
  {
   "cell_type": "code",
   "execution_count": 44,
   "metadata": {
    "collapsed": false
   },
   "outputs": [
    {
     "name": "stdout",
     "output_type": "stream",
     "text": [
      "Patient\n"
     ]
    }
   ],
   "source": [
    "print(ws['A1'].value)"
   ]
  },
  {
   "cell_type": "code",
   "execution_count": 7,
   "metadata": {
    "collapsed": false,
    "scrolled": true
   },
   "outputs": [
    {
     "name": "stdout",
     "output_type": "stream",
     "text": [
      "(<Cell Sheet1.A1>, <Cell Sheet1.A2>, <Cell Sheet1.A3>, <Cell Sheet1.A4>, <Cell Sheet1.A5>, <Cell Sheet1.A6>, <Cell Sheet1.A7>, <Cell Sheet1.A8>, <Cell Sheet1.A9>, <Cell Sheet1.A10>, <Cell Sheet1.A11>, <Cell Sheet1.A12>, <Cell Sheet1.A13>, <Cell Sheet1.A14>, <Cell Sheet1.A15>, <Cell Sheet1.A16>, <Cell Sheet1.A17>, <Cell Sheet1.A18>, <Cell Sheet1.A19>, <Cell Sheet1.A20>, <Cell Sheet1.A21>, <Cell Sheet1.A22>, <Cell Sheet1.A23>, <Cell Sheet1.A24>, <Cell Sheet1.A25>, <Cell Sheet1.A26>, <Cell Sheet1.A27>, <Cell Sheet1.A28>, <Cell Sheet1.A29>, <Cell Sheet1.A30>, <Cell Sheet1.A31>, <Cell Sheet1.A32>, <Cell Sheet1.A33>, <Cell Sheet1.A34>, <Cell Sheet1.A35>, <Cell Sheet1.A36>, <Cell Sheet1.A37>, <Cell Sheet1.A38>, <Cell Sheet1.A39>, <Cell Sheet1.A40>, <Cell Sheet1.A41>, <Cell Sheet1.A42>, <Cell Sheet1.A43>, <Cell Sheet1.A44>, <Cell Sheet1.A45>, <Cell Sheet1.A46>, <Cell Sheet1.A47>, <Cell Sheet1.A48>, <Cell Sheet1.A49>, <Cell Sheet1.A50>, <Cell Sheet1.A51>, <Cell Sheet1.A52>, <Cell Sheet1.A53>, <Cell Sheet1.A54>, <Cell Sheet1.A55>, <Cell Sheet1.A56>, <Cell Sheet1.A57>, <Cell Sheet1.A58>, <Cell Sheet1.A59>, <Cell Sheet1.A60>, <Cell Sheet1.A61>, <Cell Sheet1.A62>, <Cell Sheet1.A63>, <Cell Sheet1.A64>, <Cell Sheet1.A65>, <Cell Sheet1.A66>, <Cell Sheet1.A67>, <Cell Sheet1.A68>, <Cell Sheet1.A69>, <Cell Sheet1.A70>, <Cell Sheet1.A71>, <Cell Sheet1.A72>, <Cell Sheet1.A73>, <Cell Sheet1.A74>, <Cell Sheet1.A75>, <Cell Sheet1.A76>, <Cell Sheet1.A77>, <Cell Sheet1.A78>, <Cell Sheet1.A79>, <Cell Sheet1.A80>, <Cell Sheet1.A81>, <Cell Sheet1.A82>, <Cell Sheet1.A83>, <Cell Sheet1.A84>, <Cell Sheet1.A85>, <Cell Sheet1.A86>, <Cell Sheet1.A87>, <Cell Sheet1.A88>, <Cell Sheet1.A89>, <Cell Sheet1.A90>, <Cell Sheet1.A91>, <Cell Sheet1.A92>, <Cell Sheet1.A93>, <Cell Sheet1.A94>, <Cell Sheet1.A95>, <Cell Sheet1.A96>, <Cell Sheet1.A97>, <Cell Sheet1.A98>, <Cell Sheet1.A99>, <Cell Sheet1.A100>, <Cell Sheet1.A101>, <Cell Sheet1.A102>, <Cell Sheet1.A103>, <Cell Sheet1.A104>, <Cell Sheet1.A105>, <Cell Sheet1.A106>, <Cell Sheet1.A107>, <Cell Sheet1.A108>, <Cell Sheet1.A109>, <Cell Sheet1.A110>, <Cell Sheet1.A111>, <Cell Sheet1.A112>, <Cell Sheet1.A113>, <Cell Sheet1.A114>, <Cell Sheet1.A115>, <Cell Sheet1.A116>, <Cell Sheet1.A117>, <Cell Sheet1.A118>, <Cell Sheet1.A119>, <Cell Sheet1.A120>, <Cell Sheet1.A121>, <Cell Sheet1.A122>, <Cell Sheet1.A123>, <Cell Sheet1.A124>, <Cell Sheet1.A125>, <Cell Sheet1.A126>, <Cell Sheet1.A127>, <Cell Sheet1.A128>, <Cell Sheet1.A129>, <Cell Sheet1.A130>, <Cell Sheet1.A131>, <Cell Sheet1.A132>, <Cell Sheet1.A133>, <Cell Sheet1.A134>, <Cell Sheet1.A135>, <Cell Sheet1.A136>, <Cell Sheet1.A137>, <Cell Sheet1.A138>, <Cell Sheet1.A139>, <Cell Sheet1.A140>, <Cell Sheet1.A141>, <Cell Sheet1.A142>, <Cell Sheet1.A143>, <Cell Sheet1.A144>, <Cell Sheet1.A145>, <Cell Sheet1.A146>, <Cell Sheet1.A147>, <Cell Sheet1.A148>, <Cell Sheet1.A149>, <Cell Sheet1.A150>, <Cell Sheet1.A151>, <Cell Sheet1.A152>, <Cell Sheet1.A153>, <Cell Sheet1.A154>, <Cell Sheet1.A155>, <Cell Sheet1.A156>, <Cell Sheet1.A157>, <Cell Sheet1.A158>, <Cell Sheet1.A159>, <Cell Sheet1.A160>, <Cell Sheet1.A161>, <Cell Sheet1.A162>, <Cell Sheet1.A163>, <Cell Sheet1.A164>, <Cell Sheet1.A165>, <Cell Sheet1.A166>, <Cell Sheet1.A167>, <Cell Sheet1.A168>, <Cell Sheet1.A169>, <Cell Sheet1.A170>, <Cell Sheet1.A171>, <Cell Sheet1.A172>, <Cell Sheet1.A173>, <Cell Sheet1.A174>, <Cell Sheet1.A175>, <Cell Sheet1.A176>, <Cell Sheet1.A177>, <Cell Sheet1.A178>, <Cell Sheet1.A179>, <Cell Sheet1.A180>, <Cell Sheet1.A181>, <Cell Sheet1.A182>, <Cell Sheet1.A183>, <Cell Sheet1.A184>, <Cell Sheet1.A185>, <Cell Sheet1.A186>, <Cell Sheet1.A187>, <Cell Sheet1.A188>, <Cell Sheet1.A189>, <Cell Sheet1.A190>, <Cell Sheet1.A191>, <Cell Sheet1.A192>, <Cell Sheet1.A193>, <Cell Sheet1.A194>, <Cell Sheet1.A195>, <Cell Sheet1.A196>, <Cell Sheet1.A197>, <Cell Sheet1.A198>, <Cell Sheet1.A199>, <Cell Sheet1.A200>, <Cell Sheet1.A201>, <Cell Sheet1.A202>, <Cell Sheet1.A203>, <Cell Sheet1.A204>, <Cell Sheet1.A205>)\n"
     ]
    }
   ],
   "source": [
    "col1 = ws['A']\n",
    "print(col1)"
   ]
  },
  {
   "cell_type": "code",
   "execution_count": 8,
   "metadata": {
    "collapsed": false
   },
   "outputs": [
    {
     "data": {
      "text/plain": [
       "<Cell Sheet1.A1>"
      ]
     },
     "execution_count": 8,
     "metadata": {},
     "output_type": "execute_result"
    }
   ],
   "source": [
    "col1[0]"
   ]
  },
  {
   "cell_type": "code",
   "execution_count": 9,
   "metadata": {
    "collapsed": false
   },
   "outputs": [
    {
     "data": {
      "text/plain": [
       "<Cell Sheet1.A3>"
      ]
     },
     "execution_count": 9,
     "metadata": {},
     "output_type": "execute_result"
    }
   ],
   "source": [
    "col1[2]"
   ]
  },
  {
   "cell_type": "code",
   "execution_count": 10,
   "metadata": {
    "collapsed": false
   },
   "outputs": [
    {
     "name": "stdout",
     "output_type": "stream",
     "text": [
      "(<Cell Sheet1.B1>, <Cell Sheet1.B2>, <Cell Sheet1.B3>, <Cell Sheet1.B4>, <Cell Sheet1.B5>, <Cell Sheet1.B6>, <Cell Sheet1.B7>, <Cell Sheet1.B8>, <Cell Sheet1.B9>, <Cell Sheet1.B10>, <Cell Sheet1.B11>, <Cell Sheet1.B12>, <Cell Sheet1.B13>, <Cell Sheet1.B14>, <Cell Sheet1.B15>, <Cell Sheet1.B16>, <Cell Sheet1.B17>, <Cell Sheet1.B18>, <Cell Sheet1.B19>, <Cell Sheet1.B20>, <Cell Sheet1.B21>, <Cell Sheet1.B22>, <Cell Sheet1.B23>, <Cell Sheet1.B24>, <Cell Sheet1.B25>, <Cell Sheet1.B26>, <Cell Sheet1.B27>, <Cell Sheet1.B28>, <Cell Sheet1.B29>, <Cell Sheet1.B30>, <Cell Sheet1.B31>, <Cell Sheet1.B32>, <Cell Sheet1.B33>, <Cell Sheet1.B34>, <Cell Sheet1.B35>, <Cell Sheet1.B36>, <Cell Sheet1.B37>, <Cell Sheet1.B38>, <Cell Sheet1.B39>, <Cell Sheet1.B40>, <Cell Sheet1.B41>, <Cell Sheet1.B42>, <Cell Sheet1.B43>, <Cell Sheet1.B44>, <Cell Sheet1.B45>, <Cell Sheet1.B46>, <Cell Sheet1.B47>, <Cell Sheet1.B48>, <Cell Sheet1.B49>, <Cell Sheet1.B50>, <Cell Sheet1.B51>, <Cell Sheet1.B52>, <Cell Sheet1.B53>, <Cell Sheet1.B54>, <Cell Sheet1.B55>, <Cell Sheet1.B56>, <Cell Sheet1.B57>, <Cell Sheet1.B58>, <Cell Sheet1.B59>, <Cell Sheet1.B60>, <Cell Sheet1.B61>, <Cell Sheet1.B62>, <Cell Sheet1.B63>, <Cell Sheet1.B64>, <Cell Sheet1.B65>, <Cell Sheet1.B66>, <Cell Sheet1.B67>, <Cell Sheet1.B68>, <Cell Sheet1.B69>, <Cell Sheet1.B70>, <Cell Sheet1.B71>, <Cell Sheet1.B72>, <Cell Sheet1.B73>, <Cell Sheet1.B74>, <Cell Sheet1.B75>, <Cell Sheet1.B76>, <Cell Sheet1.B77>, <Cell Sheet1.B78>, <Cell Sheet1.B79>, <Cell Sheet1.B80>, <Cell Sheet1.B81>, <Cell Sheet1.B82>, <Cell Sheet1.B83>, <Cell Sheet1.B84>, <Cell Sheet1.B85>, <Cell Sheet1.B86>, <Cell Sheet1.B87>, <Cell Sheet1.B88>, <Cell Sheet1.B89>, <Cell Sheet1.B90>, <Cell Sheet1.B91>, <Cell Sheet1.B92>, <Cell Sheet1.B93>, <Cell Sheet1.B94>, <Cell Sheet1.B95>, <Cell Sheet1.B96>, <Cell Sheet1.B97>, <Cell Sheet1.B98>, <Cell Sheet1.B99>, <Cell Sheet1.B100>, <Cell Sheet1.B101>, <Cell Sheet1.B102>, <Cell Sheet1.B103>, <Cell Sheet1.B104>, <Cell Sheet1.B105>, <Cell Sheet1.B106>, <Cell Sheet1.B107>, <Cell Sheet1.B108>, <Cell Sheet1.B109>, <Cell Sheet1.B110>, <Cell Sheet1.B111>, <Cell Sheet1.B112>, <Cell Sheet1.B113>, <Cell Sheet1.B114>, <Cell Sheet1.B115>, <Cell Sheet1.B116>, <Cell Sheet1.B117>, <Cell Sheet1.B118>, <Cell Sheet1.B119>, <Cell Sheet1.B120>, <Cell Sheet1.B121>, <Cell Sheet1.B122>, <Cell Sheet1.B123>, <Cell Sheet1.B124>, <Cell Sheet1.B125>, <Cell Sheet1.B126>, <Cell Sheet1.B127>, <Cell Sheet1.B128>, <Cell Sheet1.B129>, <Cell Sheet1.B130>, <Cell Sheet1.B131>, <Cell Sheet1.B132>, <Cell Sheet1.B133>, <Cell Sheet1.B134>, <Cell Sheet1.B135>, <Cell Sheet1.B136>, <Cell Sheet1.B137>, <Cell Sheet1.B138>, <Cell Sheet1.B139>, <Cell Sheet1.B140>, <Cell Sheet1.B141>, <Cell Sheet1.B142>, <Cell Sheet1.B143>, <Cell Sheet1.B144>, <Cell Sheet1.B145>, <Cell Sheet1.B146>, <Cell Sheet1.B147>, <Cell Sheet1.B148>, <Cell Sheet1.B149>, <Cell Sheet1.B150>, <Cell Sheet1.B151>, <Cell Sheet1.B152>, <Cell Sheet1.B153>, <Cell Sheet1.B154>, <Cell Sheet1.B155>, <Cell Sheet1.B156>, <Cell Sheet1.B157>, <Cell Sheet1.B158>, <Cell Sheet1.B159>, <Cell Sheet1.B160>, <Cell Sheet1.B161>, <Cell Sheet1.B162>, <Cell Sheet1.B163>, <Cell Sheet1.B164>, <Cell Sheet1.B165>, <Cell Sheet1.B166>, <Cell Sheet1.B167>, <Cell Sheet1.B168>, <Cell Sheet1.B169>, <Cell Sheet1.B170>, <Cell Sheet1.B171>, <Cell Sheet1.B172>, <Cell Sheet1.B173>, <Cell Sheet1.B174>, <Cell Sheet1.B175>, <Cell Sheet1.B176>, <Cell Sheet1.B177>, <Cell Sheet1.B178>, <Cell Sheet1.B179>, <Cell Sheet1.B180>, <Cell Sheet1.B181>, <Cell Sheet1.B182>, <Cell Sheet1.B183>, <Cell Sheet1.B184>, <Cell Sheet1.B185>, <Cell Sheet1.B186>, <Cell Sheet1.B187>, <Cell Sheet1.B188>, <Cell Sheet1.B189>, <Cell Sheet1.B190>, <Cell Sheet1.B191>, <Cell Sheet1.B192>, <Cell Sheet1.B193>, <Cell Sheet1.B194>, <Cell Sheet1.B195>, <Cell Sheet1.B196>, <Cell Sheet1.B197>, <Cell Sheet1.B198>, <Cell Sheet1.B199>, <Cell Sheet1.B200>, <Cell Sheet1.B201>, <Cell Sheet1.B202>, <Cell Sheet1.B203>, <Cell Sheet1.B204>, <Cell Sheet1.B205>)\n"
     ]
    }
   ],
   "source": [
    "col2 = ws['B']\n",
    "print(col2)"
   ]
  },
  {
   "cell_type": "code",
   "execution_count": 25,
   "metadata": {
    "collapsed": false
   },
   "outputs": [
    {
     "name": "stdout",
     "output_type": "stream",
     "text": [
      "Y\n",
      "1\n",
      "None\n",
      "5\n",
      "8\n",
      "None\n",
      "10\n",
      "13\n",
      "None\n",
      "15\n"
     ]
    }
   ],
   "source": [
    "for cell in col2:\n",
    "    print(cell.value)"
   ]
  },
  {
   "cell_type": "code",
   "execution_count": 26,
   "metadata": {
    "collapsed": true
   },
   "outputs": [],
   "source": [
    "col3 = ws['C']"
   ]
  },
  {
   "cell_type": "code",
   "execution_count": 27,
   "metadata": {
    "collapsed": false
   },
   "outputs": [
    {
     "name": "stdout",
     "output_type": "stream",
     "text": [
      "None\n",
      "None\n",
      "None\n",
      "None\n",
      "None\n",
      "None\n",
      "None\n",
      "None\n",
      "None\n",
      "None\n"
     ]
    }
   ],
   "source": [
    "for cell in col3:\n",
    "    print(cell.value)"
   ]
  },
  {
   "cell_type": "code",
   "execution_count": 28,
   "metadata": {
    "collapsed": true
   },
   "outputs": [],
   "source": [
    "for cell in col3:\n",
    "    cell.value = 10"
   ]
  },
  {
   "cell_type": "code",
   "execution_count": 30,
   "metadata": {
    "collapsed": false
   },
   "outputs": [],
   "source": [
    "wb.save('excel_test.xlsx')"
   ]
  },
  {
   "cell_type": "code",
   "execution_count": 22,
   "metadata": {
    "collapsed": false
   },
   "outputs": [],
   "source": [
    "other_day = ws['A5'].value"
   ]
  },
  {
   "cell_type": "code",
   "execution_count": 23,
   "metadata": {
    "collapsed": false
   },
   "outputs": [
    {
     "ename": "TypeError",
     "evalue": "'generator' object is not subscriptable",
     "output_type": "error",
     "traceback": [
      "\u001b[0;31m---------------------------------------------------------------------------\u001b[0m",
      "\u001b[0;31mTypeError\u001b[0m                                 Traceback (most recent call last)",
      "\u001b[0;32m<ipython-input-23-625d3a309f0c>\u001b[0m in \u001b[0;36m<module>\u001b[0;34m()\u001b[0m\n\u001b[0;32m----> 1\u001b[0;31m \u001b[0mws\u001b[0m\u001b[1;33m.\u001b[0m\u001b[0mcolumns\u001b[0m\u001b[1;33m[\u001b[0m\u001b[1;36m0\u001b[0m\u001b[1;33m]\u001b[0m\u001b[1;33m\u001b[0m\u001b[0m\n\u001b[0m",
      "\u001b[0;31mTypeError\u001b[0m: 'generator' object is not subscriptable"
     ]
    }
   ],
   "source": [
    "ws.columns"
   ]
  },
  {
   "cell_type": "code",
   "execution_count": 29,
   "metadata": {
    "collapsed": false
   },
   "outputs": [
    {
     "data": {
      "text/plain": [
       "'A'"
      ]
     },
     "execution_count": 29,
     "metadata": {},
     "output_type": "execute_result"
    }
   ],
   "source": [
    "get_column_letter(1)"
   ]
  },
  {
   "cell_type": "code",
   "execution_count": 1,
   "metadata": {
    "collapsed": true
   },
   "outputs": [],
   "source": [
    "import datetime"
   ]
  },
  {
   "cell_type": "code",
   "execution_count": 13,
   "metadata": {
    "collapsed": false
   },
   "outputs": [],
   "source": [
    "today = datetime.date.today()"
   ]
  },
  {
   "cell_type": "code",
   "execution_count": 23,
   "metadata": {
    "collapsed": false
   },
   "outputs": [
    {
     "data": {
      "text/plain": [
       "-1"
      ]
     },
     "execution_count": 23,
     "metadata": {},
     "output_type": "execute_result"
    }
   ],
   "source": [
    "(today-other_day.date()).days"
   ]
  },
  {
   "cell_type": "code",
   "execution_count": 17,
   "metadata": {
    "collapsed": false
   },
   "outputs": [
    {
     "data": {
      "text/plain": [
       "datetime.date(2018, 4, 17)"
      ]
     },
     "execution_count": 17,
     "metadata": {},
     "output_type": "execute_result"
    }
   ],
   "source": [
    "other_day.date()"
   ]
  },
  {
   "cell_type": "code",
   "execution_count": 21,
   "metadata": {
    "collapsed": false
   },
   "outputs": [
    {
     "data": {
      "text/plain": [
       "datetime.date(2018, 4, 17)"
      ]
     },
     "execution_count": 21,
     "metadata": {},
     "output_type": "execute_result"
    }
   ],
   "source": [
    "today "
   ]
  },
  {
   "cell_type": "code",
   "execution_count": 28,
   "metadata": {
    "collapsed": false
   },
   "outputs": [
    {
     "data": {
      "text/plain": [
       "(<Cell Sheet1.C1>,\n",
       " <Cell Sheet1.C2>,\n",
       " <Cell Sheet1.C3>,\n",
       " <Cell Sheet1.C4>,\n",
       " <Cell Sheet1.C5>,\n",
       " <Cell Sheet1.C6>,\n",
       " <Cell Sheet1.C7>,\n",
       " <Cell Sheet1.C8>,\n",
       " <Cell Sheet1.C9>,\n",
       " <Cell Sheet1.C10>,\n",
       " <Cell Sheet1.C11>,\n",
       " <Cell Sheet1.C12>,\n",
       " <Cell Sheet1.C13>,\n",
       " <Cell Sheet1.C14>,\n",
       " <Cell Sheet1.C15>,\n",
       " <Cell Sheet1.C16>,\n",
       " <Cell Sheet1.C17>,\n",
       " <Cell Sheet1.C18>,\n",
       " <Cell Sheet1.C19>,\n",
       " <Cell Sheet1.C20>,\n",
       " <Cell Sheet1.C21>,\n",
       " <Cell Sheet1.C22>,\n",
       " <Cell Sheet1.C23>,\n",
       " <Cell Sheet1.C24>,\n",
       " <Cell Sheet1.C25>,\n",
       " <Cell Sheet1.C26>,\n",
       " <Cell Sheet1.C27>,\n",
       " <Cell Sheet1.C28>,\n",
       " <Cell Sheet1.C29>,\n",
       " <Cell Sheet1.C30>,\n",
       " <Cell Sheet1.C31>,\n",
       " <Cell Sheet1.C32>,\n",
       " <Cell Sheet1.C33>,\n",
       " <Cell Sheet1.C34>,\n",
       " <Cell Sheet1.C35>,\n",
       " <Cell Sheet1.C36>,\n",
       " <Cell Sheet1.C37>,\n",
       " <Cell Sheet1.C38>,\n",
       " <Cell Sheet1.C39>,\n",
       " <Cell Sheet1.C40>,\n",
       " <Cell Sheet1.C41>,\n",
       " <Cell Sheet1.C42>,\n",
       " <Cell Sheet1.C43>,\n",
       " <Cell Sheet1.C44>,\n",
       " <Cell Sheet1.C45>,\n",
       " <Cell Sheet1.C46>,\n",
       " <Cell Sheet1.C47>,\n",
       " <Cell Sheet1.C48>,\n",
       " <Cell Sheet1.C49>,\n",
       " <Cell Sheet1.C50>,\n",
       " <Cell Sheet1.C51>,\n",
       " <Cell Sheet1.C52>,\n",
       " <Cell Sheet1.C53>,\n",
       " <Cell Sheet1.C54>,\n",
       " <Cell Sheet1.C55>,\n",
       " <Cell Sheet1.C56>,\n",
       " <Cell Sheet1.C57>,\n",
       " <Cell Sheet1.C58>,\n",
       " <Cell Sheet1.C59>,\n",
       " <Cell Sheet1.C60>,\n",
       " <Cell Sheet1.C61>,\n",
       " <Cell Sheet1.C62>,\n",
       " <Cell Sheet1.C63>,\n",
       " <Cell Sheet1.C64>,\n",
       " <Cell Sheet1.C65>,\n",
       " <Cell Sheet1.C66>,\n",
       " <Cell Sheet1.C67>,\n",
       " <Cell Sheet1.C68>,\n",
       " <Cell Sheet1.C69>,\n",
       " <Cell Sheet1.C70>,\n",
       " <Cell Sheet1.C71>,\n",
       " <Cell Sheet1.C72>,\n",
       " <Cell Sheet1.C73>,\n",
       " <Cell Sheet1.C74>,\n",
       " <Cell Sheet1.C75>,\n",
       " <Cell Sheet1.C76>,\n",
       " <Cell Sheet1.C77>,\n",
       " <Cell Sheet1.C78>,\n",
       " <Cell Sheet1.C79>,\n",
       " <Cell Sheet1.C80>,\n",
       " <Cell Sheet1.C81>,\n",
       " <Cell Sheet1.C82>,\n",
       " <Cell Sheet1.C83>,\n",
       " <Cell Sheet1.C84>,\n",
       " <Cell Sheet1.C85>,\n",
       " <Cell Sheet1.C86>,\n",
       " <Cell Sheet1.C87>,\n",
       " <Cell Sheet1.C88>,\n",
       " <Cell Sheet1.C89>,\n",
       " <Cell Sheet1.C90>,\n",
       " <Cell Sheet1.C91>,\n",
       " <Cell Sheet1.C92>,\n",
       " <Cell Sheet1.C93>,\n",
       " <Cell Sheet1.C94>,\n",
       " <Cell Sheet1.C95>,\n",
       " <Cell Sheet1.C96>,\n",
       " <Cell Sheet1.C97>,\n",
       " <Cell Sheet1.C98>,\n",
       " <Cell Sheet1.C99>,\n",
       " <Cell Sheet1.C100>,\n",
       " <Cell Sheet1.C101>,\n",
       " <Cell Sheet1.C102>,\n",
       " <Cell Sheet1.C103>,\n",
       " <Cell Sheet1.C104>,\n",
       " <Cell Sheet1.C105>,\n",
       " <Cell Sheet1.C106>,\n",
       " <Cell Sheet1.C107>,\n",
       " <Cell Sheet1.C108>,\n",
       " <Cell Sheet1.C109>,\n",
       " <Cell Sheet1.C110>,\n",
       " <Cell Sheet1.C111>,\n",
       " <Cell Sheet1.C112>,\n",
       " <Cell Sheet1.C113>,\n",
       " <Cell Sheet1.C114>,\n",
       " <Cell Sheet1.C115>,\n",
       " <Cell Sheet1.C116>,\n",
       " <Cell Sheet1.C117>,\n",
       " <Cell Sheet1.C118>,\n",
       " <Cell Sheet1.C119>,\n",
       " <Cell Sheet1.C120>,\n",
       " <Cell Sheet1.C121>,\n",
       " <Cell Sheet1.C122>,\n",
       " <Cell Sheet1.C123>,\n",
       " <Cell Sheet1.C124>,\n",
       " <Cell Sheet1.C125>,\n",
       " <Cell Sheet1.C126>,\n",
       " <Cell Sheet1.C127>,\n",
       " <Cell Sheet1.C128>,\n",
       " <Cell Sheet1.C129>,\n",
       " <Cell Sheet1.C130>,\n",
       " <Cell Sheet1.C131>,\n",
       " <Cell Sheet1.C132>,\n",
       " <Cell Sheet1.C133>,\n",
       " <Cell Sheet1.C134>,\n",
       " <Cell Sheet1.C135>,\n",
       " <Cell Sheet1.C136>,\n",
       " <Cell Sheet1.C137>,\n",
       " <Cell Sheet1.C138>,\n",
       " <Cell Sheet1.C139>,\n",
       " <Cell Sheet1.C140>,\n",
       " <Cell Sheet1.C141>,\n",
       " <Cell Sheet1.C142>,\n",
       " <Cell Sheet1.C143>,\n",
       " <Cell Sheet1.C144>,\n",
       " <Cell Sheet1.C145>,\n",
       " <Cell Sheet1.C146>,\n",
       " <Cell Sheet1.C147>,\n",
       " <Cell Sheet1.C148>,\n",
       " <Cell Sheet1.C149>,\n",
       " <Cell Sheet1.C150>,\n",
       " <Cell Sheet1.C151>,\n",
       " <Cell Sheet1.C152>,\n",
       " <Cell Sheet1.C153>,\n",
       " <Cell Sheet1.C154>,\n",
       " <Cell Sheet1.C155>,\n",
       " <Cell Sheet1.C156>,\n",
       " <Cell Sheet1.C157>,\n",
       " <Cell Sheet1.C158>,\n",
       " <Cell Sheet1.C159>,\n",
       " <Cell Sheet1.C160>,\n",
       " <Cell Sheet1.C161>,\n",
       " <Cell Sheet1.C162>,\n",
       " <Cell Sheet1.C163>,\n",
       " <Cell Sheet1.C164>,\n",
       " <Cell Sheet1.C165>,\n",
       " <Cell Sheet1.C166>,\n",
       " <Cell Sheet1.C167>,\n",
       " <Cell Sheet1.C168>,\n",
       " <Cell Sheet1.C169>,\n",
       " <Cell Sheet1.C170>,\n",
       " <Cell Sheet1.C171>,\n",
       " <Cell Sheet1.C172>,\n",
       " <Cell Sheet1.C173>,\n",
       " <Cell Sheet1.C174>,\n",
       " <Cell Sheet1.C175>,\n",
       " <Cell Sheet1.C176>,\n",
       " <Cell Sheet1.C177>,\n",
       " <Cell Sheet1.C178>,\n",
       " <Cell Sheet1.C179>,\n",
       " <Cell Sheet1.C180>,\n",
       " <Cell Sheet1.C181>,\n",
       " <Cell Sheet1.C182>,\n",
       " <Cell Sheet1.C183>,\n",
       " <Cell Sheet1.C184>,\n",
       " <Cell Sheet1.C185>,\n",
       " <Cell Sheet1.C186>,\n",
       " <Cell Sheet1.C187>,\n",
       " <Cell Sheet1.C188>,\n",
       " <Cell Sheet1.C189>,\n",
       " <Cell Sheet1.C190>,\n",
       " <Cell Sheet1.C191>,\n",
       " <Cell Sheet1.C192>,\n",
       " <Cell Sheet1.C193>,\n",
       " <Cell Sheet1.C194>,\n",
       " <Cell Sheet1.C195>,\n",
       " <Cell Sheet1.C196>,\n",
       " <Cell Sheet1.C197>,\n",
       " <Cell Sheet1.C198>,\n",
       " <Cell Sheet1.C199>,\n",
       " <Cell Sheet1.C200>,\n",
       " <Cell Sheet1.C201>,\n",
       " <Cell Sheet1.C202>,\n",
       " <Cell Sheet1.C203>,\n",
       " <Cell Sheet1.C204>,\n",
       " <Cell Sheet1.C205>)"
      ]
     },
     "execution_count": 28,
     "metadata": {},
     "output_type": "execute_result"
    }
   ],
   "source": [
    "cell ws['C']"
   ]
  },
  {
   "cell_type": "code",
   "execution_count": 27,
   "metadata": {
    "collapsed": false
   },
   "outputs": [
    {
     "data": {
      "text/plain": [
       "1"
      ]
     },
     "execution_count": 27,
     "metadata": {},
     "output_type": "execute_result"
    }
   ],
   "source": [
    "ws['B1'].value"
   ]
  },
  {
   "cell_type": "code",
   "execution_count": 1,
   "metadata": {
    "collapsed": true
   },
   "outputs": [],
   "source": [
    "from excel_writer import XlWriter"
   ]
  },
  {
   "cell_type": "code",
   "execution_count": 10,
   "metadata": {
    "collapsed": false,
    "scrolled": true
   },
   "outputs": [
    {
     "name": "stdout",
     "output_type": "stream",
     "text": [
      "<class 'openpyxl.workbook.workbook.Workbook'>\n"
     ]
    }
   ],
   "source": [
    "writer = XlWriter('excel_test.xlsx')"
   ]
  },
  {
   "cell_type": "code",
   "execution_count": 11,
   "metadata": {
    "collapsed": false
   },
   "outputs": [],
   "source": [
    "writer.save_patient_data(1,100,37.4)"
   ]
  },
  {
   "cell_type": "code",
   "execution_count": 17,
   "metadata": {
    "collapsed": true
   },
   "outputs": [],
   "source": [
    "foo=[1]"
   ]
  },
  {
   "cell_type": "code",
   "execution_count": 13,
   "metadata": {
    "collapsed": false
   },
   "outputs": [
    {
     "data": {
      "text/plain": [
       "[]"
      ]
     },
     "execution_count": 13,
     "metadata": {},
     "output_type": "execute_result"
    }
   ],
   "source": [
    "foo"
   ]
  },
  {
   "cell_type": "code",
   "execution_count": 18,
   "metadata": {
    "collapsed": false
   },
   "outputs": [
    {
     "name": "stdout",
     "output_type": "stream",
     "text": [
      "hi\n"
     ]
    }
   ],
   "source": [
    "if foo:\n",
    "    print('hi')"
   ]
  },
  {
   "cell_type": "code",
   "execution_count": 19,
   "metadata": {
    "collapsed": true
   },
   "outputs": [],
   "source": [
    "def foo():\n",
    "    return (1,2)"
   ]
  },
  {
   "cell_type": "code",
   "execution_count": 20,
   "metadata": {
    "collapsed": false
   },
   "outputs": [
    {
     "data": {
      "text/plain": [
       "(1, 2)"
      ]
     },
     "execution_count": 20,
     "metadata": {},
     "output_type": "execute_result"
    }
   ],
   "source": [
    "foo()"
   ]
  },
  {
   "cell_type": "code",
   "execution_count": 21,
   "metadata": {
    "collapsed": true
   },
   "outputs": [],
   "source": [
    "a,b = foo()"
   ]
  },
  {
   "cell_type": "code",
   "execution_count": 22,
   "metadata": {
    "collapsed": false
   },
   "outputs": [
    {
     "data": {
      "text/plain": [
       "1"
      ]
     },
     "execution_count": 22,
     "metadata": {},
     "output_type": "execute_result"
    }
   ],
   "source": [
    "a"
   ]
  },
  {
   "cell_type": "code",
   "execution_count": 23,
   "metadata": {
    "collapsed": false
   },
   "outputs": [
    {
     "data": {
      "text/plain": [
       "2"
      ]
     },
     "execution_count": 23,
     "metadata": {},
     "output_type": "execute_result"
    }
   ],
   "source": [
    "b"
   ]
  },
  {
   "cell_type": "code",
   "execution_count": 24,
   "metadata": {
    "collapsed": false
   },
   "outputs": [
    {
     "data": {
      "text/plain": [
       "2"
      ]
     },
     "execution_count": 24,
     "metadata": {},
     "output_type": "execute_result"
    }
   ],
   "source": [
    "int('2')"
   ]
  },
  {
   "cell_type": "code",
   "execution_count": 25,
   "metadata": {
    "collapsed": false
   },
   "outputs": [
    {
     "ename": "ValueError",
     "evalue": "invalid literal for int() with base 10: '2.3'",
     "output_type": "error",
     "traceback": [
      "\u001b[0;31m---------------------------------------------------------------------------\u001b[0m",
      "\u001b[0;31mValueError\u001b[0m                                Traceback (most recent call last)",
      "\u001b[0;32m<ipython-input-25-75fc3c8494f5>\u001b[0m in \u001b[0;36m<module>\u001b[0;34m()\u001b[0m\n\u001b[0;32m----> 1\u001b[0;31m \u001b[0mint\u001b[0m\u001b[1;33m(\u001b[0m\u001b[1;34m'2.3'\u001b[0m\u001b[1;33m)\u001b[0m\u001b[1;33m\u001b[0m\u001b[0m\n\u001b[0m",
      "\u001b[0;31mValueError\u001b[0m: invalid literal for int() with base 10: '2.3'"
     ]
    }
   ],
   "source": [
    "int('2.3')"
   ]
  },
  {
   "cell_type": "code",
   "execution_count": null,
   "metadata": {
    "collapsed": true
   },
   "outputs": [],
   "source": []
  }
 ],
 "metadata": {
  "kernelspec": {
   "display_name": "Python 3",
   "language": "python",
   "name": "python3"
  },
  "language_info": {
   "codemirror_mode": {
    "name": "ipython",
    "version": 3
   },
   "file_extension": ".py",
   "mimetype": "text/x-python",
   "name": "python",
   "nbconvert_exporter": "python",
   "pygments_lexer": "ipython3",
   "version": "3.6.0"
  }
 },
 "nbformat": 4,
 "nbformat_minor": 2
}
